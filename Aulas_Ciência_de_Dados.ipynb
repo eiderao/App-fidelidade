{
  "nbformat": 4,
  "nbformat_minor": 0,
  "metadata": {
    "colab": {
      "name": "Aulas Ciência de Dados.ipynb",
      "provenance": [],
      "toc_visible": true,
      "authorship_tag": "ABX9TyOm20Qsj5QPhIslv7rEsh6+",
      "include_colab_link": true
    },
    "kernelspec": {
      "name": "python3",
      "display_name": "Python 3"
    },
    "language_info": {
      "name": "python"
    }
  },
  "cells": [
    {
      "cell_type": "markdown",
      "metadata": {
        "id": "view-in-github",
        "colab_type": "text"
      },
      "source": [
        "<a href=\"https://colab.research.google.com/github/eiderao/App-fidelidade/blob/master/Aulas_Ci%C3%AAncia_de_Dados.ipynb\" target=\"_parent\"><img src=\"https://colab.research.google.com/assets/colab-badge.svg\" alt=\"Open In Colab\"/></a>"
      ]
    },
    {
      "cell_type": "markdown",
      "source": [
        "# Aula 4"
      ],
      "metadata": {
        "id": "KZ8vDTfMDAAE"
      }
    },
    {
      "cell_type": "markdown",
      "source": [],
      "metadata": {
        "id": "zy6x8NrZEcgJ"
      }
    },
    {
      "cell_type": "code",
      "source": [
        " latlong = '-22.005320;-47.891040'\n",
        " print(latlong)"
      ],
      "metadata": {
        "id": "ynuOVEDrDNa8"
      },
      "execution_count": null,
      "outputs": []
    },
    {
      "cell_type": "code",
      "source": [
        "latlong = '-22.005320;-47.891040'\n",
        "print(latlong)\n",
        "separador = latlong.find(\";\")\n",
        "print('Latitude:' + latlong[0:separador])\n",
        "print('Longitude' + latlong[separador+1:len(latlong)])\n",
        "print(f'Latitude: {latlong[0:separador]} \\nLongitude: {latlong[separador+1:len(latlong)]}')"
      ],
      "metadata": {
        "colab": {
          "base_uri": "https://localhost:8080/"
        },
        "id": "1qnKPVhXEEpT",
        "outputId": "4a4657cd-09e9-4893-9f86-d4c52ea27299"
      },
      "execution_count": 12,
      "outputs": [
        {
          "output_type": "stream",
          "name": "stdout",
          "text": [
            "-22.005320;-47.891040\n",
            "Latitude:-22.005320\n",
            "Longitude-47.891040\n",
            "Latitude: -22.005320 \n",
            "Longitude: -47.891040\n"
          ]
        }
      ]
    }
  ]
}